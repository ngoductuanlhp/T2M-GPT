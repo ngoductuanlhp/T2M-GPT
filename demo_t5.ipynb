{
 "cells": [
  {
   "cell_type": "code",
   "execution_count": 1,
   "metadata": {},
   "outputs": [],
   "source": [
    "%load_ext autoreload\n",
    "%autoreload 2"
   ]
  },
  {
   "cell_type": "code",
   "execution_count": 2,
   "metadata": {},
   "outputs": [],
   "source": [
    "import os\n",
    "os.environ[\"CUDA_DEVICE_ORDER\"]=\"PCI_BUS_ID\"\n",
    "os.environ[\"CUDA_VISIBLE_DEVICES\"]=\"1\"  # specify which GPU(s) to be used\n",
    "\n",
    "import sys\n",
    "sys.argv = ['GPT_eval_multi.py']\n",
    "\n",
    "import clip\n",
    "import torch\n",
    "import numpy as np\n",
    "import models.vqvae as vqvae\n",
    "import models.t2m_trans as trans\n",
    "import warnings\n",
    "warnings.filterwarnings('ignore')\n",
    "\n",
    "\n",
    "# from transformers import T5Tokenizer, T5ForConditionalGeneration\n",
    "from transformers import AutoModelForSeq2SeqLM, T5ForConditionalGeneration, T5Tokenizer, AutoTokenizer, GPT2LMHeadModel, GPT2Tokenizer\n"
   ]
  },
  {
   "cell_type": "code",
   "execution_count": 16,
   "metadata": {},
   "outputs": [],
   "source": [
    "# tokenizer = T5Tokenizer.from_pretrained(\"checkpoints/flan-t5-base\")\n",
    "tokenizer = AutoTokenizer.from_pretrained(\"checkpoints/flan-t5-base\", legacy=True)\n",
    "model = T5ForConditionalGeneration.from_pretrained(\"checkpoints/flan-t5-base\").to('cuda')\n",
    "\n",
    "# input_text = \"translate English to German: How old are you?\"\n",
    "# input_ids = tokenizer(input_text, return_tensors=\"pt\").input_ids.to(\"cuda\")\n",
    "\n",
    "# outputs = model.generate(input_ids)\n",
    "# print(tokenizer.decode(outputs[0]))"
   ]
  },
  {
   "cell_type": "code",
   "execution_count": 17,
   "metadata": {},
   "outputs": [],
   "source": [
    "import codecs as cs\n",
    "\n",
    "split_file = '/home/tuan/tdngo/motion_ws/T2M-GPT/dataset/HumanML3D/train_val.txt'\n",
    "\n",
    "id_list = []\n",
    "with cs.open(split_file, 'r') as f:\n",
    "    for line in f.readlines():\n",
    "        id_list.append(line.strip())"
   ]
  },
  {
   "cell_type": "code",
   "execution_count": 18,
   "metadata": {},
   "outputs": [
    {
     "name": "stderr",
     "output_type": "stream",
     "text": [
      "100%|██████████| 24844/24844 [00:14<00:00, 1764.36it/s]\n"
     ]
    }
   ],
   "source": [
    "from tqdm import tqdm\n",
    "\n",
    "new_name_list = []\n",
    "data_dict = {}\n",
    "for name in tqdm(id_list):\n",
    "    # Read text\n",
    "    try:\n",
    "        with cs.open(os.path.join('/home/tuan/tdngo/motion_ws/T2M-GPT/dataset/HumanML3D/texts', name + '.txt')) as f:\n",
    "            text_data = []\n",
    "            flag = False\n",
    "            lines = f.readlines()\n",
    "\n",
    "            for line in lines:\n",
    "                try:\n",
    "                    text_dict = {}\n",
    "                    line_split = line.strip().split('#')\n",
    "                    caption = line_split[0]\n",
    "                    t_tokens = line_split[1].split(' ')\n",
    "                    f_tag = float(line_split[2])\n",
    "                    to_tag = float(line_split[3])\n",
    "                    f_tag = 0.0 if np.isnan(f_tag) else f_tag\n",
    "                    to_tag = 0.0 if np.isnan(to_tag) else to_tag\n",
    "\n",
    "                    text_dict['caption'] = caption\n",
    "                    text_dict['tokens'] = t_tokens\n",
    "                    if f_tag == 0.0 and to_tag == 0.0:\n",
    "                        flag = True\n",
    "                        text_data.append(text_dict)\n",
    "                except:\n",
    "                    pass\n",
    "        if flag:\n",
    "            data_dict[name] = text_data\n",
    "            new_name_list.append(name)\n",
    "    except:\n",
    "        pass\n",
    "\n",
    "    \n",
    "                        "
   ]
  },
  {
   "cell_type": "code",
   "execution_count": 22,
   "metadata": {},
   "outputs": [
    {
     "name": "stderr",
     "output_type": "stream",
     "text": [
      "  0%|          | 0/24844 [00:00<?, ?it/s]"
     ]
    },
    {
     "name": "stderr",
     "output_type": "stream",
     "text": [
      " 28%|██▊       | 6839/24844 [07:14<21:51, 13.73it/s]"
     ]
    }
   ],
   "source": [
    "for name, text_data in tqdm(data_dict.items()):\n",
    "    # print(text_data)\n",
    "    emb_list = []\n",
    "    for t in text_data:\n",
    "        text = t['caption']\n",
    "        # print(text)\n",
    "\n",
    "        input_ids = tokenizer([text], return_tensors=\"pt\",)\n",
    "        # print(input_ids)\n",
    "        # forward pass through encoder only\n",
    "        output = model.encoder(\n",
    "            input_ids=input_ids[\"input_ids\"].cuda(), \n",
    "            attention_mask=input_ids[\"attention_mask\"].cuda(), \n",
    "            return_dict=True\n",
    "        )\n",
    "        # get the final hidden states\n",
    "        emb = output.last_hidden_state\n",
    "        emb_list.append(emb)\n",
    "    torch.save(emb_list, os.path.join('/home/tuan/tdngo/motion_ws/T2M-GPT/dataset/HumanML3D/flan-t5-base_text_embeddings', name + '.pth'))\n"
   ]
  },
  {
   "cell_type": "code",
   "execution_count": 15,
   "metadata": {},
   "outputs": [
    {
     "name": "stdout",
     "output_type": "stream",
     "text": [
      "{'input_ids': tensor([[13959,  1566,    12,  2968,    10,   571,   625,    33,    25,    58,\n",
      "             1],\n",
      "        [13959,  1566,    58,     1,     0,     0,     0,     0,     0,     0,\n",
      "             0]]), 'attention_mask': tensor([[1, 1, 1, 1, 1, 1, 1, 1, 1, 1, 1],\n",
      "        [1, 1, 1, 1, 0, 0, 0, 0, 0, 0, 0]])}\n",
      "torch.Size([2, 11, 768])\n"
     ]
    }
   ],
   "source": [
    "input_text = [\"translate English to German: How old are you?\", \"translate English?\"]\n",
    "\n",
    "input_ids = tokenizer(input_text, return_tensors=\"pt\", max_length=11, padding=True)\n",
    "print(input_ids)\n",
    "# forward pass through encoder only\n",
    "output = model.encoder(\n",
    "    input_ids=input_ids[\"input_ids\"].cuda(), \n",
    "    attention_mask=input_ids[\"attention_mask\"].cuda(), \n",
    "    return_dict=True\n",
    ")\n",
    "# get the final hidden states\n",
    "emb = output.last_hidden_state\n",
    "print(emb.shape)"
   ]
  }
 ],
 "metadata": {
  "kernelspec": {
   "display_name": "mogen",
   "language": "python",
   "name": "python3"
  },
  "language_info": {
   "codemirror_mode": {
    "name": "ipython",
    "version": 3
   },
   "file_extension": ".py",
   "mimetype": "text/x-python",
   "name": "python",
   "nbconvert_exporter": "python",
   "pygments_lexer": "ipython3",
   "version": "3.9.17"
  },
  "orig_nbformat": 4
 },
 "nbformat": 4,
 "nbformat_minor": 2
}
