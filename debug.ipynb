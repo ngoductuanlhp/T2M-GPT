{
 "cells": [
  {
   "cell_type": "code",
   "execution_count": 1,
   "metadata": {},
   "outputs": [],
   "source": [
    "%load_ext autoreload\n",
    "%autoreload 2"
   ]
  },
  {
   "cell_type": "code",
   "execution_count": 5,
   "metadata": {},
   "outputs": [],
   "source": [
    "import os\n",
    "os.environ[\"CUDA_DEVICE_ORDER\"]=\"PCI_BUS_ID\"\n",
    "os.environ[\"CUDA_VISIBLE_DEVICES\"]=\"1\"  # specify which GPU(s) to be used\n",
    "\n",
    "import numpy as np\n",
    "import sys"
   ]
  },
  {
   "cell_type": "code",
   "execution_count": 10,
   "metadata": {},
   "outputs": [],
   "source": [
    "files = sorted(os.listdir('/home/tuan/tdngo/motion_ws/T2M-GPT/dataset/Mixamo_rot6d/Mousey_m'))\n",
    "# files"
   ]
  },
  {
   "cell_type": "code",
   "execution_count": 11,
   "metadata": {},
   "outputs": [
    {
     "name": "stdout",
     "output_type": "stream",
     "text": [
      "[0, 1, 2, 3, 4, 5, 6, 7, 8, 9, 11, 12, 15, 17, 18, 20, 21, 22, 23, 24, 25, 26, 27, 28, 29, 30, 31, 32, 33, 34, 35, 36, 37, 39, 41, 42, 44, 45, 47, 49, 52, 54, 55, 56, 57, 58, 60, 61, 62, 63, 64, 65, 66, 67, 68, 69, 70, 71, 73, 77, 78, 79, 80, 81, 82, 83, 85, 86, 87, 88, 89, 90, 91, 92, 93, 94, 95, 97, 98, 99]\n"
     ]
    }
   ],
   "source": [
    "total_n = len(files)\n",
    "\n",
    "train_n = int(total_n* 0.8)\n",
    "\n",
    "train_choice = sorted(np.random.choice(total_n, train_n, replace=False))\n",
    "print(train_choice)\n",
    "\n"
   ]
  },
  {
   "cell_type": "code",
   "execution_count": 12,
   "metadata": {},
   "outputs": [],
   "source": [
    "train_file = open('dataset/Mixamo_rot6d/train.txt', 'w')\n",
    "test_file = open('dataset/Mixamo_rot6d/test.txt', 'w')\n",
    "\n",
    "\n",
    "for i in range(total_n):\n",
    "    if i in train_choice:\n",
    "        train_file.writelines(files[i])\n",
    "        train_file.write('\\n')\n",
    "    else:\n",
    "        test_file.writelines(files[i])\n",
    "        test_file.write('\\n')\n",
    "    #     lines = ['Readme', 'How to write text files in Python']\n",
    "\n",
    "    # for line in lines:\n",
    "    #     f.write(line)\n",
    "    #     f.write('\\n')\n",
    "\n",
    "train_file.close()\n",
    "test_file.close()\n"
   ]
  }
 ],
 "metadata": {
  "kernelspec": {
   "display_name": "mogen",
   "language": "python",
   "name": "python3"
  },
  "language_info": {
   "codemirror_mode": {
    "name": "ipython",
    "version": 3
   },
   "file_extension": ".py",
   "mimetype": "text/x-python",
   "name": "python",
   "nbconvert_exporter": "python",
   "pygments_lexer": "ipython3",
   "version": "3.9.17"
  },
  "orig_nbformat": 4
 },
 "nbformat": 4,
 "nbformat_minor": 2
}
