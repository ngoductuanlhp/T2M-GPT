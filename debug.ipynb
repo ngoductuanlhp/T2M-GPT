{
 "cells": [
  {
   "cell_type": "code",
   "execution_count": 1,
   "metadata": {},
   "outputs": [],
   "source": [
    "%load_ext autoreload\n",
    "%autoreload 2"
   ]
  },
  {
   "cell_type": "code",
   "execution_count": 2,
   "metadata": {},
   "outputs": [],
   "source": [
    "import os\n",
    "os.environ[\"CUDA_DEVICE_ORDER\"]=\"PCI_BUS_ID\"\n",
    "os.environ[\"CUDA_VISIBLE_DEVICES\"]=\"1\"  # specify which GPU(s) to be used\n",
    "\n",
    "import numpy as np\n",
    "import sys"
   ]
  },
  {
   "cell_type": "code",
   "execution_count": 4,
   "metadata": {},
   "outputs": [],
   "source": [
    "train_file = open('dataset/HumanML3D/train.txt', 'r')\n",
    "train_small_file = open('dataset/HumanML3D/train_mini.txt', 'w')\n",
    "\n",
    "Lines = train_file.readlines()\n",
    "\n",
    "total_n = len(Lines)\n",
    "\n",
    "train_choice = sorted(np.random.choice(total_n, 100, replace=False))\n",
    "# print(train_choice)\n",
    "\n",
    " \n",
    "count = 0\n",
    "# Strips the newline character\n",
    "for c in train_choice:\n",
    "    train_small_file.writelines(Lines[c])\n",
    "    # train_small_file.write('\\n')s\n",
    "    #     lines = ['Readme', 'How to write text files in Python']\n",
    "\n",
    "    # for line in lines:\n",
    "    #     f.write(line)\n",
    "    #     f.write('\\n')\n",
    "\n",
    "train_file.close()\n",
    "train_small_file.close()"
   ]
  }
 ],
 "metadata": {
  "kernelspec": {
   "display_name": "mogen",
   "language": "python",
   "name": "python3"
  },
  "language_info": {
   "codemirror_mode": {
    "name": "ipython",
    "version": 3
   },
   "file_extension": ".py",
   "mimetype": "text/x-python",
   "name": "python",
   "nbconvert_exporter": "python",
   "pygments_lexer": "ipython3",
   "version": "3.9.17"
  },
  "orig_nbformat": 4
 },
 "nbformat": 4,
 "nbformat_minor": 2
}
